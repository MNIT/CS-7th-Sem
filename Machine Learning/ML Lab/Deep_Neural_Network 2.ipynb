{
 "cells": [
  {
   "cell_type": "code",
   "execution_count": 3,
   "metadata": {
    "colab": {},
    "colab_type": "code",
    "id": "FwZ3lND2-kM8"
   },
   "outputs": [],
   "source": [
    "import numpy as np\n",
    "import pandas as pd\n",
    "import matplotlib.pyplot as plt\n",
    "import h5py\n",
    "from scipy import ndimage\n",
    "from PIL import Image\n",
    "\n",
    "%matplotlib inline\n",
    "plt.rcParams['figure.figsize'] = (8.0, 6.0)\n",
    "plt.rcParams['image.interpolation'] = 'nearest'\n",
    "plt.rcParams['image.cmap'] = 'gray'\n",
    "\n",
    "np.random.seed(1)"
   ]
  },
  {
   "cell_type": "code",
   "execution_count": 0,
   "metadata": {
    "colab": {},
    "colab_type": "code",
    "id": "xf-8W2Th7sUD"
   },
   "outputs": [],
   "source": [
    "def load_dataset():\n",
    "    train = h5py.File(\"train_catvnoncat.h5\", \"r\")\n",
    "    train_x = np.array(train[\"train_set_x\"][:])\n",
    "    train_y = np.array(train[\"train_set_y\"][:])\n",
    "    \n",
    "    test = h5py.File(\"test_catvnoncat.h5\", \"r\")\n",
    "    test_x = np.array(test[\"test_set_x\"][:])\n",
    "    test_y = np.array(test[\"test_set_y\"][:])\n",
    "    \n",
    "    classes = np.array(test[\"list_classes\"][:])\n",
    "    \n",
    "    train_y = train_y.reshape((1, train_y.shape[0]))\n",
    "    test_y = test_y.reshape((1, test_y.shape[0]))\n",
    "    \n",
    "    return train_x, train_y, test_x, test_y, classes"
   ]
  },
  {
   "cell_type": "code",
   "execution_count": 16,
   "metadata": {
    "colab": {
     "base_uri": "https://localhost:8080/",
     "height": 178
    },
    "colab_type": "code",
    "id": "0WGc7tYO8AnE",
    "outputId": "b0ff3249-d8f2-407b-bba7-4079a2acb01c"
   },
   "outputs": [
    {
     "name": "stdout",
     "output_type": "stream",
     "text": [
      "Number of training examples: m_train = 30000\n",
      "Number of testing examples: m_test = 12000\n",
      "Height/Width of each image: num_px = 28\n",
      "Image size: (28, 28, 3)\n",
      "train_x shape: (30000, 784)\n",
      "train_y shape: (1, 30000)\n",
      "test_x shape: (12000, 784)\n",
      "test_y shape: (1, 12000)\n"
     ]
    }
   ],
   "source": [
    "training_data = pd.read_csv(\"train.csv\", sep=',')\n",
    "\n",
    "train_x_orig = training_data.head(30000).iloc[:, 1:785]\n",
    "train_y = training_data.head(30000).iloc[:, 0]\n",
    "\n",
    "test_x_orig = training_data.tail(12000).iloc[:, 1:785]\n",
    "test_y = training_data.tail(12000).iloc[:, 0]\n",
    "\n",
    "train_x_orig = train_x_orig.as_matrix().reshape(30000, 784)\n",
    "test_x_orig = test_x_orig.as_matrix().reshape(12000, 784)\n",
    "train_y = train_y.as_matrix().reshape(1, 30000)\n",
    "test_y = test_y.as_matrix().reshape(1, 12000)\n",
    "\n",
    "#X_train = X_train.astype('float32')\n",
    "#X_test = X_test.astype('float32')\n",
    "\n",
    "\n",
    "#train_x_orig, train_y, test_x_orig, test_y, classes = load_dataset()\n",
    "#print(classes)\n",
    "\n",
    "m_train = train_x_orig.shape[0]\n",
    "m_test = test_x_orig.shape[0]\n",
    "num_px = int(np.sqrt(train_x_orig.shape[1]))\n",
    "\n",
    "print(\"Number of training examples: m_train = \" + str(m_train))\n",
    "print(\"Number of testing examples: m_test = \" + str(m_test))\n",
    "print(\"Height/Width of each image: num_px = \" + str(num_px))\n",
    "print(\"Image size: (\" + str(num_px) + \", \" + str(num_px) + \", 3)\")\n",
    "print(\"train_x shape: \" + str(train_x_orig.shape))\n",
    "print(\"train_y shape: \" + str(train_y.shape))\n",
    "print(\"test_x shape: \" + str(test_x_orig.shape))\n",
    "print(\"test_y shape: \" + str(test_y.shape))"
   ]
  },
  {
   "cell_type": "code",
   "execution_count": 18,
   "metadata": {
    "colab": {
     "base_uri": "https://localhost:8080/",
     "height": 394
    },
    "colab_type": "code",
    "id": "_umQwupy8GdD",
    "outputId": "e5fbb6a5-3c34-4c14-a56e-11b03fcff5e0"
   },
   "outputs": [
    {
     "name": "stdout",
     "output_type": "stream",
     "text": [
      "y = [2] picture.\n"
     ]
    },
    {
     "data": {
      "image/png": "[encoded data removed]",
      "text/plain": [
       "<matplotlib.figure.Figure at 0x25809b0e048>"
      ]
     },
     "metadata": {},
     "output_type": "display_data"
    }
   ],
   "source": [
    "index = 56\n",
    "plt.imshow(train_x_orig[index, :].reshape(28,28))\n",
    "#print(train_y[:, index])\n",
    "print(\"y = \" + str(train_y[:, index]) + \" picture.\")"
   ]
  },
  {
   "cell_type": "code",
   "execution_count": 19,
   "metadata": {
    "colab": {
     "base_uri": "https://localhost:8080/",
     "height": 52
    },
    "colab_type": "code",
    "id": "CmQQuOa_8eu4",
    "outputId": "d44641f5-71b2-4d30-82da-fe7c853bf68c"
   },
   "outputs": [
    {
     "name": "stdout",
     "output_type": "stream",
     "text": [
      "train_x shape: (784, 30000)\n",
      "test_x shape: (784, 12000)\n"
     ]
    }
   ],
   "source": [
    "train_x = train_x_orig.T\n",
    "test_x = test_x_orig.T\n",
    "\n",
    "print(\"train_x shape: \" + str(train_x.shape))\n",
    "print(\"test_x shape: \" + str(test_x.shape))"
   ]
  },
  {
   "cell_type": "code",
   "execution_count": 20,
   "metadata": {
    "colab": {},
    "colab_type": "code",
    "id": "AL3Jlk3E8g5M"
   },
   "outputs": [],
   "source": [
    "train_x = train_x / 255\n",
    "test_x = test_x / 255"
   ]
  },
  {
   "cell_type": "markdown",
   "metadata": {
    "colab_type": "text",
    "id": "8LjRJnxSuOdX"
   },
   "source": [
    "### Initialization"
   ]
  },
  {
   "cell_type": "code",
   "execution_count": 22,
   "metadata": {
    "colab": {},
    "colab_type": "code",
    "id": "VaYeykMqwExY"
   },
   "outputs": [],
   "source": [
    "def init_params(dims):\n",
    "    params = {}\n",
    "    np.random.seed(1)\n",
    "    \n",
    "    for i in range (1, len(dims)):\n",
    "        if(len(dims) <= 3):\n",
    "            params[\"W\" + str(i)] = np.random.randn(dims[i], dims[i-1]) * 0.01 \n",
    "        else:\n",
    "            params[\"W\" + str(i)] = np.random.randn(dims[i], dims[i-1]) / np.sqrt(dims[i-1])\n",
    "        \n",
    "        params[\"b\" + str(i)] = np.zeros((dims[i], 1))\n",
    "    \n",
    "    return params"
   ]
  },
  {
   "cell_type": "code",
   "execution_count": 23,
   "metadata": {
    "colab": {},
    "colab_type": "code",
    "id": "5B7MVZ5cdcRm"
   },
   "outputs": [],
   "source": [
    "def sigmoid(z):\n",
    "    return 1 / (1 + np.exp(-z))"
   ]
  },
  {
   "cell_type": "code",
   "execution_count": 24,
   "metadata": {
    "colab": {},
    "colab_type": "code",
    "id": "QovVM7CK2hJx"
   },
   "outputs": [],
   "source": [
    "def relu(z):\n",
    "    return np.maximum(0, z)"
   ]
  },
  {
   "cell_type": "code",
   "execution_count": 25,
   "metadata": {
    "colab": {},
    "colab_type": "code",
    "id": "phRKuba0dhdP"
   },
   "outputs": [],
   "source": [
    "def forward_prop(X, params):\n",
    "    L = len(params) // 2\n",
    "    A = X\n",
    "    caches = []\n",
    "    \n",
    "    for i in range(1, L+1):\n",
    "        A_prev = A\n",
    "        \n",
    "        W = params[\"W\" + str(i)]\n",
    "        b = params[\"b\" + str(i)]\n",
    "                   \n",
    "        Z = np.dot(W, A_prev) + b\n",
    "        linear_cache = (A_prev, W, b)\n",
    "        \n",
    "        if(i == L):\n",
    "            A = sigmoid(Z)\n",
    "        else:\n",
    "            A = relu(Z)\n",
    "        \n",
    "        activation_cache = Z\n",
    "        \n",
    "        caches.append((linear_cache, activation_cache))\n",
    "        \n",
    "    return A, caches"
   ]
  },
  {
   "cell_type": "code",
   "execution_count": 75,
   "metadata": {
    "colab": {},
    "colab_type": "code",
    "id": "0bqORINRfX4g"
   },
   "outputs": [],
   "source": [
    "def compute_cost(Y, AL):\n",
    "    m = Y.shape[1]\n",
    "    \n",
    "    y_vector = np.array([0,1,2,3,4,5,6,7,8,9]).reshape(10,1)\n",
    "    print(Y[:,0])\n",
    "\n",
    "    y_temp = np.zeros((10, m))\n",
    "    for i in range(m):\n",
    "        y_temp = np.concatenate((y_temp, y_vector==Y[:,i]), axis=1)\n",
    "    Y = y_temp\n",
    "    \n",
    "    print(y_vector == Y[:,0])\n",
    "    print(y_temp[:,0])\n",
    "    print(Y)\n",
    "    \n",
    "    J = (-1/m) * np.sum(Y * np.log(AL) + (1 - Y) * np.log(1 - AL))\n",
    "    \n",
    "    return np.squeeze(J)"
   ]
  },
  {
   "cell_type": "code",
   "execution_count": 27,
   "metadata": {
    "colab": {},
    "colab_type": "code",
    "id": "DpjbjfmnHZIw"
   },
   "outputs": [],
   "source": [
    "def sigmoid_backward(dA, Z):\n",
    "    s = 1 / (1 + np.exp(-Z))\n",
    "    dZ = dA * s * (1-s)\n",
    "    return dZ"
   ]
  },
  {
   "cell_type": "code",
   "execution_count": 28,
   "metadata": {
    "colab": {},
    "colab_type": "code",
    "id": "_mdvuUkKH2V1"
   },
   "outputs": [],
   "source": [
    "def relu_backward(dA, Z):\n",
    "    dZ = np.array(dA, copy=True)\n",
    "    dZ[Z<=0] = 0\n",
    "    return dZ"
   ]
  },
  {
   "cell_type": "code",
   "execution_count": 71,
   "metadata": {
    "colab": {},
    "colab_type": "code",
    "id": "6a1muL-vgXsn"
   },
   "outputs": [],
   "source": [
    "def backward_prop(AL, Y, caches):\n",
    "    L = len(caches)\n",
    "    m = AL.shape[1]\n",
    "    \n",
    "    y_vector = np.array([0,1,2,3,4,5,6,7,8,9])\n",
    "    \n",
    "    y_temp = np.zeros((10, m))\n",
    "    for i in range(m):\n",
    "        y_temp[:,i] = (y_vector == np.squeeze(Y[:,i]))\n",
    "    Y = y_temp\n",
    "    #print(Y.shape)\n",
    "    \n",
    "    grads = {}\n",
    "    \n",
    "    dAL = - (np.divide(Y, AL) - np.divide(1 - Y, 1 - AL))\n",
    "    \n",
    "    for i in range(L, 0, -1):\n",
    "        current_cache = caches[i-1]\n",
    "        \n",
    "        linear_cache, activation_cache = current_cache\n",
    "        \n",
    "        if(i == L):\n",
    "            dZ = sigmoid_backward(dAL, activation_cache)\n",
    "        else:\n",
    "            dZ = relu_backward(grads[\"dA\" + str(i+1)], activation_cache)\n",
    "        \n",
    "        A_prev, W, b = linear_cache\n",
    "        \n",
    "        grads[\"dW\" + str(i)] = (1/m) * np.dot(dZ, A_prev.T)\n",
    "        grads[\"db\" + str(i)] = (1/m) * np.sum(dZ, axis=1, keepdims=True)        \n",
    "        grads[\"dA\" + str(i)] = np.dot(W.T, dZ)\n",
    "        \n",
    "    return grads"
   ]
  },
  {
   "cell_type": "code",
   "execution_count": 30,
   "metadata": {
    "colab": {},
    "colab_type": "code",
    "id": "ay5n6a5LS_0c"
   },
   "outputs": [],
   "source": [
    "def update_params(params, grads, learning_rate):\n",
    "    L = len(params) // 2\n",
    "    \n",
    "    for l in range(1, L+1):\n",
    "        params[\"W\" + str(l)] -= learning_rate * grads[\"dW\" + str(l)]\n",
    "        params[\"b\" + str(l)] -= learning_rate * grads[\"db\" + str(l)]\n",
    "        \n",
    "    return params"
   ]
  },
  {
   "cell_type": "code",
   "execution_count": 47,
   "metadata": {
    "colab": {},
    "colab_type": "code",
    "id": "EO-d9NVk-n4j"
   },
   "outputs": [],
   "source": [
    "def NN_model(X, Y, dims, learning_rate = 0.3, num_itrs = 3000, print_cost = False):\n",
    "    np.random.seed(1)\n",
    "    \n",
    "    params = init_params(dims)\n",
    "    costs = []\n",
    "    \n",
    "    for i in range(num_itrs):   \n",
    "        AL, caches = forward_prop(X, params)\n",
    "        #print(AL.shape)\n",
    "        cost = compute_cost(Y, AL)\n",
    "        \n",
    "        grads = backward_prop(AL, Y, caches)\n",
    "        \n",
    "        params = update_params(params, grads, learning_rate)\n",
    "        \n",
    "        if(i % 100 == 0):\n",
    "            costs.append(cost)\n",
    "            \n",
    "            if(print_cost):\n",
    "                print(\"Iteration #%i : %f\" % (i, cost))\n",
    "     \n",
    "    plt.plot(np.squeeze(costs))\n",
    "    plt.ylabel('cost')\n",
    "    plt.xlabel('iterations')\n",
    "    plt.title(\"Learning rate =\" + str(learning_rate))\n",
    "    plt.show()\n",
    "    \n",
    "    return params"
   ]
  },
  {
   "cell_type": "code",
   "execution_count": 76,
   "metadata": {
    "colab": {
     "base_uri": "https://localhost:8080/",
     "height": 843
    },
    "colab_type": "code",
    "id": "ndlmX4BIBeQ7",
    "outputId": "a0434066-b80f-4199-ab37-b9cd68f11c16"
   },
   "outputs": [
    {
     "name": "stdout",
     "output_type": "stream",
     "text": [
      "[1]\n"
     ]
    },
    {
     "ename": "KeyboardInterrupt",
     "evalue": "",
     "output_type": "error",
     "traceback": [
      "\u001b[1;31m---------------------------------------------------------------------------\u001b[0m",
      "\u001b[1;31mKeyboardInterrupt\u001b[0m                         Traceback (most recent call last)",
      "\u001b[1;32m<ipython-input-76-a037a48631d4>\u001b[0m in \u001b[0;36m<module>\u001b[1;34m()\u001b[0m\n\u001b[0;32m      1\u001b[0m \u001b[0mdims\u001b[0m \u001b[1;33m=\u001b[0m \u001b[1;33m[\u001b[0m\u001b[1;36m784\u001b[0m\u001b[1;33m,\u001b[0m \u001b[1;36m7\u001b[0m\u001b[1;33m,\u001b[0m \u001b[1;36m10\u001b[0m\u001b[1;33m]\u001b[0m\u001b[1;33m\u001b[0m\u001b[0m\n\u001b[1;32m----> 2\u001b[1;33m \u001b[0mparams\u001b[0m \u001b[1;33m=\u001b[0m \u001b[0mNN_model\u001b[0m\u001b[1;33m(\u001b[0m\u001b[0mtrain_x\u001b[0m\u001b[1;33m,\u001b[0m \u001b[0mtrain_y\u001b[0m\u001b[1;33m,\u001b[0m \u001b[0mdims\u001b[0m\u001b[1;33m,\u001b[0m \u001b[0mlearning_rate\u001b[0m \u001b[1;33m=\u001b[0m \u001b[1;36m0.0075\u001b[0m\u001b[1;33m,\u001b[0m \u001b[0mnum_itrs\u001b[0m \u001b[1;33m=\u001b[0m \u001b[1;36m2500\u001b[0m\u001b[1;33m,\u001b[0m \u001b[0mprint_cost\u001b[0m\u001b[1;33m=\u001b[0m\u001b[1;32mTrue\u001b[0m\u001b[1;33m)\u001b[0m\u001b[1;33m\u001b[0m\u001b[0m\n\u001b[0m",
      "\u001b[1;32m<ipython-input-47-6be0c1be98c8>\u001b[0m in \u001b[0;36mNN_model\u001b[1;34m(X, Y, dims, learning_rate, num_itrs, print_cost)\u001b[0m\n\u001b[0;32m      8\u001b[0m         \u001b[0mAL\u001b[0m\u001b[1;33m,\u001b[0m \u001b[0mcaches\u001b[0m \u001b[1;33m=\u001b[0m \u001b[0mforward_prop\u001b[0m\u001b[1;33m(\u001b[0m\u001b[0mX\u001b[0m\u001b[1;33m,\u001b[0m \u001b[0mparams\u001b[0m\u001b[1;33m)\u001b[0m\u001b[1;33m\u001b[0m\u001b[0m\n\u001b[0;32m      9\u001b[0m         \u001b[1;31m#print(AL.shape)\u001b[0m\u001b[1;33m\u001b[0m\u001b[1;33m\u001b[0m\u001b[0m\n\u001b[1;32m---> 10\u001b[1;33m         \u001b[0mcost\u001b[0m \u001b[1;33m=\u001b[0m \u001b[0mcompute_cost\u001b[0m\u001b[1;33m(\u001b[0m\u001b[0mY\u001b[0m\u001b[1;33m,\u001b[0m \u001b[0mAL\u001b[0m\u001b[1;33m)\u001b[0m\u001b[1;33m\u001b[0m\u001b[0m\n\u001b[0m\u001b[0;32m     11\u001b[0m \u001b[1;33m\u001b[0m\u001b[0m\n\u001b[0;32m     12\u001b[0m         \u001b[0mgrads\u001b[0m \u001b[1;33m=\u001b[0m \u001b[0mbackward_prop\u001b[0m\u001b[1;33m(\u001b[0m\u001b[0mAL\u001b[0m\u001b[1;33m,\u001b[0m \u001b[0mY\u001b[0m\u001b[1;33m,\u001b[0m \u001b[0mcaches\u001b[0m\u001b[1;33m)\u001b[0m\u001b[1;33m\u001b[0m\u001b[0m\n",
      "\u001b[1;32m<ipython-input-75-7875dcae968e>\u001b[0m in \u001b[0;36mcompute_cost\u001b[1;34m(Y, AL)\u001b[0m\n\u001b[0;32m      7\u001b[0m     \u001b[0my_temp\u001b[0m \u001b[1;33m=\u001b[0m \u001b[0mnp\u001b[0m\u001b[1;33m.\u001b[0m\u001b[0mzeros\u001b[0m\u001b[1;33m(\u001b[0m\u001b[1;33m(\u001b[0m\u001b[1;36m10\u001b[0m\u001b[1;33m,\u001b[0m \u001b[0mm\u001b[0m\u001b[1;33m)\u001b[0m\u001b[1;33m)\u001b[0m\u001b[1;33m\u001b[0m\u001b[0m\n\u001b[0;32m      8\u001b[0m     \u001b[1;32mfor\u001b[0m \u001b[0mi\u001b[0m \u001b[1;32min\u001b[0m \u001b[0mrange\u001b[0m\u001b[1;33m(\u001b[0m\u001b[0mm\u001b[0m\u001b[1;33m)\u001b[0m\u001b[1;33m:\u001b[0m\u001b[1;33m\u001b[0m\u001b[0m\n\u001b[1;32m----> 9\u001b[1;33m         \u001b[0my_temp\u001b[0m \u001b[1;33m=\u001b[0m \u001b[0mnp\u001b[0m\u001b[1;33m.\u001b[0m\u001b[0mconcatenate\u001b[0m\u001b[1;33m(\u001b[0m\u001b[1;33m(\u001b[0m\u001b[0my_temp\u001b[0m\u001b[1;33m,\u001b[0m \u001b[0my_vector\u001b[0m\u001b[1;33m==\u001b[0m\u001b[0mY\u001b[0m\u001b[1;33m[\u001b[0m\u001b[1;33m:\u001b[0m\u001b[1;33m,\u001b[0m\u001b[0mi\u001b[0m\u001b[1;33m]\u001b[0m\u001b[1;33m)\u001b[0m\u001b[1;33m,\u001b[0m \u001b[0maxis\u001b[0m\u001b[1;33m=\u001b[0m\u001b[1;36m1\u001b[0m\u001b[1;33m)\u001b[0m\u001b[1;33m\u001b[0m\u001b[0m\n\u001b[0m\u001b[0;32m     10\u001b[0m     \u001b[0mY\u001b[0m \u001b[1;33m=\u001b[0m \u001b[0my_temp\u001b[0m\u001b[1;33m\u001b[0m\u001b[0m\n\u001b[0;32m     11\u001b[0m \u001b[1;33m\u001b[0m\u001b[0m\n",
      "\u001b[1;31mKeyboardInterrupt\u001b[0m: "
     ]
    }
   ],
   "source": [
    "dims = [784, 7, 10]\n",
    "params = NN_model(train_x, train_y, dims, learning_rate = 0.0075, num_itrs = 2500, print_cost=True)"
   ]
  },
  {
   "cell_type": "code",
   "execution_count": null,
   "metadata": {
    "colab": {},
    "colab_type": "code",
    "id": "I3V4Hb6hwn6V"
   },
   "outputs": [],
   "source": [
    "def predict(X, Y, params):\n",
    "    predictions = np.zeros(Y.shape)\n",
    "    y, caches = forward_prop(X, params)\n",
    "    \n",
    "    for i in range(y.shape[1]):\n",
    "        if(y[0, i] >= 0.5):\n",
    "            predictions[0, i] = 1\n",
    "        else:\n",
    "            predictions[0, i] = 0\n",
    "    \n",
    "    print(\"Accuracy : \" + str(np.sum((predictions == Y) / X.shape[1])))\n",
    "    \n",
    "    return predictions"
   ]
  },
  {
   "cell_type": "code",
   "execution_count": null,
   "metadata": {
    "colab": {
     "base_uri": "https://localhost:8080/",
     "height": 34
    },
    "colab_type": "code",
    "id": "rMKmj2_EyWkr",
    "outputId": "8eab3511-07c4-4d41-eb0c-318896600ae6"
   },
   "outputs": [],
   "source": [
    "predictions_train = predict(train_x, train_y, params)"
   ]
  },
  {
   "cell_type": "code",
   "execution_count": null,
   "metadata": {
    "colab": {
     "base_uri": "https://localhost:8080/",
     "height": 34
    },
    "colab_type": "code",
    "id": "3ve7Wl99yn_G",
    "outputId": "3ccc3e98-61c7-4e98-a9f3-2d1159f873a0"
   },
   "outputs": [],
   "source": [
    "predictions_test = predict(test_x, test_y, params)"
   ]
  },
  {
   "cell_type": "code",
   "execution_count": null,
   "metadata": {
    "colab": {
     "base_uri": "https://localhost:8080/",
     "height": 843
    },
    "colab_type": "code",
    "id": "C99uYZbGy4qq",
    "outputId": "0befb195-36d2-43a9-f26e-06bb0838bef4"
   },
   "outputs": [],
   "source": [
    "layers_dims = [12288, 20, 7, 5, 1]\n",
    "params = NN_model(train_x, train_y, layers_dims, learning_rate = 0.0075, num_itrs = 2500, print_cost=True)"
   ]
  },
  {
   "cell_type": "code",
   "execution_count": null,
   "metadata": {
    "colab": {
     "base_uri": "https://localhost:8080/",
     "height": 34
    },
    "colab_type": "code",
    "id": "kzSE4uY-zvq8",
    "outputId": "b0feca91-d829-4314-aaa0-2614882d67db"
   },
   "outputs": [],
   "source": [
    "pred_train = predict(train_x, train_y, params)"
   ]
  },
  {
   "cell_type": "code",
   "execution_count": null,
   "metadata": {
    "colab": {
     "base_uri": "https://localhost:8080/",
     "height": 34
    },
    "colab_type": "code",
    "id": "z0DepmhlzwYs",
    "outputId": "b509f94a-cfaa-4394-81a7-a9e3ae0b0062"
   },
   "outputs": [],
   "source": [
    "pred_train = predict(test_x, test_y, params)"
   ]
  }
 ],
 "metadata": {
  "accelerator": "TPU",
  "colab": {
   "collapsed_sections": [],
   "name": "Deep Neural Network.ipynb",
   "provenance": [],
   "toc_visible": true,
   "version": "0.3.2"
  },
  "kernelspec": {
   "display_name": "Python 3",
   "language": "python",
   "name": "python3"
  },
  "language_info": {
   "codemirror_mode": {
    "name": "ipython",
    "version": 3
   },
   "file_extension": ".py",
   "mimetype": "text/x-python",
   "name": "python",
   "nbconvert_exporter": "python",
   "pygments_lexer": "ipython3",
   "version": "3.6.4"
  }
 },
 "nbformat": 4,
 "nbformat_minor": 1
}
