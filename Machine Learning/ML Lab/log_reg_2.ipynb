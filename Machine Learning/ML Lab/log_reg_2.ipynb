{
  "nbformat": 4,
  "nbformat_minor": 0,
  "metadata": {
    "colab": {
      "name": "log reg 2.ipynb",
      "version": "0.3.2",
      "provenance": [],
      "collapsed_sections": [
        "P9EFhONioY4W",
        "nhmZbo23oTP7",
        "thTBodEJpnWw"
      ]
    },
    "kernelspec": {
      "name": "python3",
      "display_name": "Python 3"
    }
  },
  "cells": [
    {
      "metadata": {
        "id": "eDnCqCYPh_4m",
        "colab_type": "code",
        "colab": {}
      },
      "cell_type": "code",
      "source": [
        "import pandas as pd\n",
        "import numpy as np\n",
        "from scipy import optimize\n",
        "import matplotlib.pyplot as plt\n",
        "import matplotlib.animation as animation\n",
        "from scipy.optimize import fmin_bfgs\n",
        "\n",
        "data = np.loadtxt('log_reg_data2.txt', delimiter=',')\n",
        "x = data[:, :2]\n",
        "y = data[:, 2]\n",
        "\n",
        "m = len(y)"
      ],
      "execution_count": 0,
      "outputs": []
    },
    {
      "metadata": {
        "id": "DmSZ_Ppvg9k1",
        "colab_type": "code",
        "colab": {}
      },
      "cell_type": "code",
      "source": [
        "from google.colab import files\n",
        "\n",
        "uploaded = files.upload()\n",
        "\n",
        "for fn in uploaded.keys():\n",
        "  print('User uploaded file \"{name}\" with length {length} bytes'.format(\n",
        "      name=fn, length=len(uploaded[fn])))"
      ],
      "execution_count": 0,
      "outputs": []
    },
    {
      "metadata": {
        "id": "7pO8QzDcEva9",
        "colab_type": "text"
      },
      "cell_type": "markdown",
      "source": [
        "### Visualizing Data"
      ]
    },
    {
      "metadata": {
        "id": "X9Tfl8RgiDlv",
        "colab_type": "code",
        "colab": {
          "base_uri": "https://localhost:8080/",
          "height": 376
        },
        "outputId": "5e14100a-390f-4347-aeed-53ce6dc5431e"
      },
      "cell_type": "code",
      "source": [
        "def plotGraph():\n",
        "    pos = np.where(y == 1)[0]\n",
        "    neg = np.where(y == 0)[0]\n",
        "\t\n",
        "    plt.scatter(x[neg, 0], x[neg, 1], label= \"0\", color= \"green\", marker= \"o\")\n",
        "    plt.scatter(x[pos, 0], x[pos, 1], label= \"1\", color= \"blue\", marker= \"+\")\n",
        "\t\n",
        "    plt.xlabel('Microchip Test 1')\n",
        "    plt.ylabel('Microchip Test 2')\n",
        "    plt.title('Given Data')\n",
        "    plt.legend(['y = 0', 'y = 1'], loc='upper right')\n",
        "    plt.show()\n",
        "\n",
        "plotGraph()"
      ],
      "execution_count": 0,
      "outputs": [
        {
          "output_type": "display_data",
          "data": {
            "image/png": "[encoded data removed]",
            "text/plain": [
              "<matplotlib.figure.Figure at 0x7fd8d019f198>"
            ]
          },
          "metadata": {
            "tags": []
          }
        }
      ]
    },
    {
      "metadata": {
        "id": "wQ9d-jV5e_Dk",
        "colab_type": "text"
      },
      "cell_type": "markdown",
      "source": [
        "### Synthetic features"
      ]
    },
    {
      "metadata": {
        "id": "DNk-sAzMjhG1",
        "colab_type": "code",
        "colab": {
          "base_uri": "https://localhost:8080/",
          "height": 50
        },
        "outputId": "d3b251d2-7dbd-4515-a392-e3329ea3dcc3"
      },
      "cell_type": "code",
      "source": [
        "def mapFeature(X1, X2, degree=6):\n",
        "    if X1.ndim > 0:\n",
        "        out = [np.ones(X1.shape[0])]\n",
        "    else:\n",
        "        out = [np.ones(1)]\n",
        "\n",
        "    for i in range(1, degree + 1):\n",
        "        for j in range(i + 1):\n",
        "            out.append((X1 ** (i - j)) * (X2 ** j))\n",
        "\n",
        "    if X1.ndim > 0:\n",
        "        return np.stack(out, axis=1)\n",
        "    else:\n",
        "        return np.array(out)\n",
        "  \n",
        "X = mapFeature(x[:,0], x[:, 1])\n",
        "\n",
        "print(X.shape)\n",
        "print(y.shape)"
      ],
      "execution_count": 0,
      "outputs": [
        {
          "output_type": "stream",
          "text": [
            "(118, 28)\n",
            "(118,)\n"
          ],
          "name": "stdout"
        }
      ]
    },
    {
      "metadata": {
        "id": "eVTR8j14Qkt2",
        "colab_type": "text"
      },
      "cell_type": "markdown",
      "source": [
        "### Sigmoid and regularized cost function"
      ]
    },
    {
      "metadata": {
        "id": "Mjv3K2bGku7C",
        "colab_type": "code",
        "colab": {}
      },
      "cell_type": "code",
      "source": [
        "def sigmoid(z):\n",
        "    return 1 / (1 + np.exp(-z))"
      ],
      "execution_count": 0,
      "outputs": []
    },
    {
      "metadata": {
        "id": "v_AGJdZ1kYMs",
        "colab_type": "code",
        "colab": {}
      },
      "cell_type": "code",
      "source": [
        "def cost_function_reg(w, X, y, Lambda):\n",
        "    m = y.size\n",
        "    h = sigmoid(np.dot(X, w))\n",
        "    \n",
        "    J = ((np.dot(y.T, np.log(h)) + np.dot((1-y).T, np.log(1-h))) / (-m)) + ((Lambda / (2*m)) * np.sum(w[1:]**2))\n",
        "    #print(w[:, 0:1]**2)\n",
        "    \n",
        "    grad = (1/m) * np.dot(X.T, h-y) + (Lambda/m) * w\n",
        "    grad[0] = (1/m) * np.dot(X[:,0:1].T, h-y)\n",
        "    \n",
        "    return J.flatten()[0], grad"
      ],
      "execution_count": 0,
      "outputs": []
    },
    {
      "metadata": {
        "id": "P9EFhONioY4W",
        "colab_type": "text"
      },
      "cell_type": "markdown",
      "source": [
        "### Test cost function"
      ]
    },
    {
      "metadata": {
        "id": "sVrcWEIth6Sy",
        "colab_type": "code",
        "colab": {
          "base_uri": "https://localhost:8080/",
          "height": 302
        },
        "outputId": "07a2750c-477c-4690-d84b-bd30cd98458d"
      },
      "cell_type": "code",
      "source": [
        "# Initialize fitting parameters\n",
        "initial_theta = np.zeros(X.shape[1])\n",
        "\n",
        "# Set regularization parameter lambda to 1\n",
        "# DO NOT use `lambda` as a variable name in python\n",
        "# because it is a python keyword\n",
        "lambda_ = 1\n",
        "\n",
        "# Compute and display initial cost and gradient for regularized logistic\n",
        "# regression\n",
        "cost, grad = cost_function_reg(initial_theta, X, y, lambda_)\n",
        "\n",
        "print('Cost at initial theta (zeros): {:.3f}'.format(cost))\n",
        "print('Expected cost (approx)       : 0.693\\n')\n",
        "\n",
        "print('Gradient at initial theta (zeros) - first five values only:')\n",
        "print('\\t[{:.4f}, {:.4f}, {:.4f}, {:.4f}, {:.4f}]'.format(*grad[:5]))\n",
        "print('Expected gradients (approx) - first five values only:')\n",
        "print('\\t[0.0085, 0.0188, 0.0001, 0.0503, 0.0115]\\n')\n",
        "\n",
        "\n",
        "# Compute and display cost and gradient\n",
        "# with all-ones theta and lambda = 10\n",
        "test_theta = np.ones(X.shape[1])\n",
        "cost, grad = cost_function_reg(test_theta, X, y, 10)\n",
        "\n",
        "print('------------------------------\\n')\n",
        "print('Cost at test theta    : {:.2f}'.format(cost))\n",
        "print('Expected cost (approx): 3.16\\n')\n",
        "\n",
        "print('Gradient at initial theta (zeros) - first five values only:')\n",
        "print('\\t[{:.4f}, {:.4f}, {:.4f}, {:.4f}, {:.4f}]'.format(*grad[:5]))\n",
        "print('Expected gradients (approx) - first five values only:')\n",
        "print('\\t[0.3460, 0.1614, 0.1948, 0.2269, 0.0922]')"
      ],
      "execution_count": 0,
      "outputs": [
        {
          "output_type": "stream",
          "text": [
            "Cost at initial theta (zeros): 0.693\n",
            "Expected cost (approx)       : 0.693\n",
            "\n",
            "Gradient at initial theta (zeros) - first five values only:\n",
            "\t[0.0085, 0.0188, 0.0001, 0.0503, 0.0115]\n",
            "Expected gradients (approx) - first five values only:\n",
            "\t[0.0085, 0.0188, 0.0001, 0.0503, 0.0115]\n",
            "\n",
            "------------------------------\n",
            "\n",
            "Cost at test theta    : 3.16\n",
            "Expected cost (approx): 3.16\n",
            "\n",
            "Gradient at initial theta (zeros) - first five values only:\n",
            "\t[0.3460, 0.1614, 0.1948, 0.2269, 0.0922]\n",
            "Expected gradients (approx) - first five values only:\n",
            "\t[0.3460, 0.1614, 0.1948, 0.2269, 0.0922]\n"
          ],
          "name": "stdout"
        }
      ]
    },
    {
      "metadata": {
        "id": "nhmZbo23oTP7",
        "colab_type": "text"
      },
      "cell_type": "markdown",
      "source": [
        "### Gradient Descent"
      ]
    },
    {
      "metadata": {
        "id": "yQoQug1NmDul",
        "colab_type": "code",
        "colab": {}
      },
      "cell_type": "code",
      "source": [
        "def gradient_descent(w, alpha, iters):\n",
        "    #w = np.ndarray.copy(w)\n",
        "    #print(w)\n",
        "    J_history = np.zeros([iters, 1])\n",
        "    \n",
        "    for iter in range(iters):\n",
        "        prediction = sigmoid(np.dot(X, w))\n",
        "        prediction.shape = (m,1)\n",
        "        gradient = prediction - y\n",
        "        \n",
        "        for j in range(np.shape(X)[1]):\n",
        "            w[j] = w[j] - (alpha / m) * np.sum(gradient * X[:, j:j+1])\n",
        "                \n",
        "        #print(gradient)\n",
        "        J_history[iter] = cost_function(w)\n",
        "        #print(iter, J_history[iter])\n",
        "    \n",
        "    #print(w)\n",
        "    return w, J_history\n",
        "\n",
        "\n",
        "w1, J_history_1 = gradient_descent(np.zeros([n+1, 1]), 0.001, 2000)\n",
        "print(\"Cost\", cost_function(w1))\n",
        "print(\"Param\", w1, \"\\n\")\n",
        "\n",
        "w2, J_history_2 = gradient_descent(np.random.random((3, 1)), 0.0009, 1400)\n",
        "print(\"Cost\", cost_function(w2))\n",
        "print(\"Param\", w2, \"\\n\")"
      ],
      "execution_count": 0,
      "outputs": []
    },
    {
      "metadata": {
        "id": "WUwYfbdzPL17",
        "colab_type": "text"
      },
      "cell_type": "markdown",
      "source": [
        "### Optimization"
      ]
    },
    {
      "metadata": {
        "id": "Uwoxk2g7PQT3",
        "colab_type": "code",
        "colab": {}
      },
      "cell_type": "code",
      "source": [
        "def optimize_log(Lambda):\n",
        "    options= {'maxiter': 400}\n",
        "\n",
        "    res = optimize.minimize(cost_function_reg,\n",
        "                            initial_theta,\n",
        "                            (X, y, Lambda),\n",
        "                            jac=True,\n",
        "                            method='TNC',\n",
        "                            options=options)\n",
        "    return res"
      ],
      "execution_count": 0,
      "outputs": []
    },
    {
      "metadata": {
        "id": "thTBodEJpnWw",
        "colab_type": "text"
      },
      "cell_type": "markdown",
      "source": [
        "### Cost and Learning Rate"
      ]
    },
    {
      "metadata": {
        "id": "_wEg4WTJpKXK",
        "colab_type": "code",
        "colab": {}
      },
      "cell_type": "code",
      "source": [
        "def plot_cost_and_itrs(J_history, alpha, iterations):\n",
        "    itrs = [x for x in range(1, iterations+1)]\n",
        "    plt.plot(itrs, J_history)\n",
        "    plt.xlabel('Number of iterations')\n",
        "    plt.ylabel('J')\n",
        "    plt.title(\"Alpha = \" + alpha)\n",
        "    plt.show()"
      ],
      "execution_count": 0,
      "outputs": []
    },
    {
      "metadata": {
        "id": "75_Z7AIupx6E",
        "colab_type": "code",
        "colab": {}
      },
      "cell_type": "code",
      "source": [
        "#plot_cost_and_itrs(J_history_1, \"0.0001\", 2000)\n",
        "#plot_cost_and_itrs(J_history_2, \"0.0009\", 1400)"
      ],
      "execution_count": 0,
      "outputs": []
    },
    {
      "metadata": {
        "id": "fRAW2F_sseeT",
        "colab_type": "text"
      },
      "cell_type": "markdown",
      "source": [
        "### Decision Boundary"
      ]
    },
    {
      "metadata": {
        "id": "Ybvlp-Iop2PA",
        "colab_type": "code",
        "colab": {}
      },
      "cell_type": "code",
      "source": [
        "def plotDecisionBoundary(theta, X, y, Lambda):\n",
        "    theta = np.array(theta)\n",
        "    \n",
        "    pos = np.where(y == 1)[0]\n",
        "    neg = np.where(y == 0)[0]\n",
        "\t\n",
        "    plt.scatter(x[neg, 0], x[neg, 1], label= \"0\", color= \"green\", marker= \"o\")\n",
        "    plt.scatter(x[pos, 0], x[pos, 1], label= \"1\", color= \"blue\", marker= \"+\")\n",
        "\n",
        "    if X.shape[1] <= 3:\n",
        "        plot_x = np.array([np.min(X[:, 1]) - 2, np.max(X[:, 1]) + 2])\n",
        "\n",
        "        plot_y = (-1. / theta[2]) * (theta[1] * plot_x + theta[0])\n",
        "\n",
        "        plt.plot(plot_x, plot_y)\n",
        "\n",
        "        plt.legend(['Admitted', 'Not admitted', 'Decision Boundary'])\n",
        "        plt.xlim([30, 100])\n",
        "        plt.ylim([30, 100])\n",
        "    \n",
        "    else:\n",
        "        u = np.linspace(-1, 1.5, 50)\n",
        "        v = np.linspace(-1, 1.5, 50)\n",
        "\n",
        "        z = np.zeros((u.size, v.size))\n",
        "        for i, ui in enumerate(u):\n",
        "            for j, vj in enumerate(v):\n",
        "                z[i, j] = np.dot(mapFeature(ui, vj), theta)\n",
        "\n",
        "        z = z.T \n",
        "\n",
        "        plt.contour(u, v, z, levels=[0], linewidths=2, colors='g')\n",
        "        plt.contourf(u, v, z, levels=[np.min(z), 0, np.max(z)], cmap='Greens', alpha=0.4)\n",
        "        \n",
        "        plt.xlabel('Microchip Test 1')\n",
        "        plt.ylabel('Microchip Test 2')\n",
        "        plt.legend(['y = 1', 'y = 0'])\n",
        "        plt.title('lambda = %0.2f' % Lambda)"
      ],
      "execution_count": 0,
      "outputs": []
    },
    {
      "metadata": {
        "id": "lmvQpICVtLgT",
        "colab_type": "code",
        "colab": {
          "base_uri": "https://localhost:8080/",
          "height": 546
        },
        "outputId": "34b26c89-eb96-48d0-a121-32e36efb52b2"
      },
      "cell_type": "code",
      "source": [
        "Lambda = [0, 1, 50]\n",
        "\n",
        "plt.figure(figsize=(22,4))\n",
        "results = []\n",
        "\n",
        "for i in range(len(Lambda)):\n",
        "    r = optimize_log(Lambda[i])\n",
        "    cost = r.fun\n",
        "    theta = r.x\n",
        "    results.append(theta)\n",
        "    \n",
        "    print(\"At lambda :\", Lambda[i])\n",
        "    print('Optimized Cost: {:.3f}'. format(cost))\n",
        "    print('theta:')\n",
        "    print(theta[:5])\n",
        "    print()    \n",
        "\n",
        "    plt.subplot(1, 3, i + 1)\n",
        "    plotDecisionBoundary(theta, X, y, Lambda[i])"
      ],
      "execution_count": 0,
      "outputs": [
        {
          "output_type": "stream",
          "text": [
            "At lambda : 0\n",
            "Optimized Cost: 0.248\n",
            "theta:\n",
            "[  14.0235244    16.96730724   12.88899379 -141.93657517  -82.15641879]\n",
            "\n",
            "At lambda : 1\n",
            "Optimized Cost: 0.529\n",
            "theta:\n",
            "[ 1.27271027  0.62529965  1.18111686 -2.01987399 -0.9174319 ]\n",
            "\n",
            "At lambda : 50\n",
            "Optimized Cost: 0.681\n",
            "theta:\n",
            "[ 0.0698778  -0.02819758  0.01713415 -0.10711569 -0.02528839]\n",
            "\n"
          ],
          "name": "stdout"
        },
        {
          "output_type": "display_data",
          "data": {
            "image/png": "[encoded data removed]",
            "text/plain": [
              "<matplotlib.figure.Figure at 0x7fd8bedfc6d8>"
            ]
          },
          "metadata": {
            "tags": []
          }
        }
      ]
    },
    {
      "metadata": {
        "id": "h79J80deTb9O",
        "colab_type": "text"
      },
      "cell_type": "markdown",
      "source": [
        "### Predict"
      ]
    },
    {
      "metadata": {
        "id": "AnUGOIj4tV6K",
        "colab_type": "code",
        "colab": {}
      },
      "cell_type": "code",
      "source": [
        "def predict(theta, X):\n",
        "    m = X.shape[0]\n",
        "    \n",
        "    p = np.dot(X, theta)\n",
        "    \n",
        "    for i in range(m):\n",
        "        if(p[i] >= 0.5):\n",
        "            p[i] = 1\n",
        "        else:\n",
        "            p[i] = 0\n",
        "    \n",
        "    return p"
      ],
      "execution_count": 0,
      "outputs": []
    },
    {
      "metadata": {
        "id": "9-O-jVE8T9Zr",
        "colab_type": "code",
        "colab": {
          "base_uri": "https://localhost:8080/",
          "height": 67
        },
        "outputId": "8e615f31-ae91-43cb-a49c-c3664533c7c1"
      },
      "cell_type": "code",
      "source": [
        "for i in range(len(Lambda)):\n",
        "    p = predict(results[i], X)\n",
        "    print(\"Training accuracy is {:.2f} % when lambda = {}\". format(np.mean(p == y) * 100, Lambda[i]))"
      ],
      "execution_count": 0,
      "outputs": [
        {
          "output_type": "stream",
          "text": [
            "Training accuracy is 87.29 % when lambda = 0\n",
            "Training accuracy is 79.66 % when lambda = 1\n",
            "Training accuracy is 50.85 % when lambda = 50\n"
          ],
          "name": "stdout"
        }
      ]
    },
    {
      "metadata": {
        "id": "3fNijpuBUYaW",
        "colab_type": "code",
        "colab": {}
      },
      "cell_type": "code",
      "source": [
        ""
      ],
      "execution_count": 0,
      "outputs": []
    }
  ]
}