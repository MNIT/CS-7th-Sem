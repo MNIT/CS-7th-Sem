{
  "nbformat": 4,
  "nbformat_minor": 0,
  "metadata": {
    "colab": {
      "name": "Deep_Neural_Network 2.ipynb",
      "version": "0.3.2",
      "provenance": [],
      "collapsed_sections": []
    },
    "kernelspec": {
      "display_name": "Python 3",
      "language": "python",
      "name": "python3"
    },
    "accelerator": "TPU"
  },
  "cells": [
    {
      "metadata": {
        "id": "QUibv0N_BSZa",
        "colab_type": "text"
      },
      "cell_type": "markdown",
      "source": [
        "### Importing Packages"
      ]
    },
    {
      "metadata": {
        "colab_type": "code",
        "id": "FwZ3lND2-kM8",
        "colab": {}
      },
      "cell_type": "code",
      "source": [
        "import numpy as np\n",
        "import pandas as pd\n",
        "import matplotlib.pyplot as plt\n",
        "\n",
        "%matplotlib inline\n",
        "plt.rcParams['figure.figsize'] = (8.0, 6.0)\n",
        "plt.rcParams['image.interpolation'] = 'nearest'\n",
        "plt.rcParams['image.cmap'] = 'gray'"
      ],
      "execution_count": 0,
      "outputs": []
    },
    {
      "metadata": {
        "id": "dDomLpIcBV-E",
        "colab_type": "text"
      },
      "cell_type": "markdown",
      "source": [
        "### Downloading MNIST dataset from Kaggle"
      ]
    },
    {
      "metadata": {
        "id": "lr4ywes-41l7",
        "colab_type": "code",
        "outputId": "d43b0339-78a4-468c-badb-b6bbdcb655f3",
        "colab": {
          "base_uri": "https://localhost:8080/",
          "height": 459
        }
      },
      "cell_type": "code",
      "source": [
        "!pip install kaggle"
      ],
      "execution_count": 0,
      "outputs": [
        {
          "output_type": "stream",
          "text": [
            "Collecting kaggle\n",
            "\u001b[?25l  Downloading https://files.pythonhosted.org/packages/83/9b/ac57e15fbb239c6793c8d0b7dfd1a4c4a025eaa9f791b5388a7afb515aed/kaggle-1.5.0.tar.gz (53kB)\n",
            "\u001b[K    100% |████████████████████████████████| 61kB 6.0MB/s \n",
            "\u001b[?25hRequirement already satisfied: urllib3<1.23.0,>=1.15 in /usr/local/lib/python3.6/dist-packages (from kaggle) (1.22)\n",
            "Requirement already satisfied: six>=1.10 in /usr/local/lib/python3.6/dist-packages (from kaggle) (1.11.0)\n",
            "Requirement already satisfied: certifi in /usr/local/lib/python3.6/dist-packages (from kaggle) (2018.10.15)\n",
            "Requirement already satisfied: python-dateutil in /usr/local/lib/python3.6/dist-packages (from kaggle) (2.5.3)\n",
            "Requirement already satisfied: requests in /usr/local/lib/python3.6/dist-packages (from kaggle) (2.18.4)\n",
            "Requirement already satisfied: tqdm in /usr/local/lib/python3.6/dist-packages (from kaggle) (4.28.1)\n",
            "Collecting python-slugify (from kaggle)\n",
            "  Downloading https://files.pythonhosted.org/packages/00/ad/c778a6df614b6217c30fe80045b365bfa08b5dd3cb02e8b37a6d25126781/python-slugify-1.2.6.tar.gz\n",
            "Requirement already satisfied: idna<2.7,>=2.5 in /usr/local/lib/python3.6/dist-packages (from requests->kaggle) (2.6)\n",
            "Requirement already satisfied: chardet<3.1.0,>=3.0.2 in /usr/local/lib/python3.6/dist-packages (from requests->kaggle) (3.0.4)\n",
            "Collecting Unidecode>=0.04.16 (from python-slugify->kaggle)\n",
            "\u001b[?25l  Downloading https://files.pythonhosted.org/packages/59/ef/67085e30e8bbcdd76e2f0a4ad8151c13a2c5bce77c85f8cad6e1f16fb141/Unidecode-1.0.22-py2.py3-none-any.whl (235kB)\n",
            "\u001b[K    100% |████████████████████████████████| 235kB 9.6MB/s \n",
            "\u001b[?25hBuilding wheels for collected packages: kaggle, python-slugify\n",
            "  Running setup.py bdist_wheel for kaggle ... \u001b[?25l-\b \b\\\b \bdone\n",
            "\u001b[?25h  Stored in directory: /root/.cache/pip/wheels/8b/21/3b/a0076243c6ae12a6215b2da515fe06b539aee7217b406e510e\n",
            "  Running setup.py bdist_wheel for python-slugify ... \u001b[?25l-\b \bdone\n",
            "\u001b[?25h  Stored in directory: /root/.cache/pip/wheels/e3/65/da/2045deea3098ed7471eca0e2460cfbd3fdfe8c1d6fa6fcac92\n",
            "Successfully built kaggle python-slugify\n",
            "Installing collected packages: Unidecode, python-slugify, kaggle\n",
            "Successfully installed Unidecode-1.0.22 kaggle-1.5.0 python-slugify-1.2.6\n"
          ],
          "name": "stdout"
        }
      ]
    },
    {
      "metadata": {
        "id": "Rtx_pNeH4-0j",
        "colab_type": "code",
        "colab": {}
      },
      "cell_type": "code",
      "source": [
        "!mkdir -p ~/.kaggle\n",
        "!cp kaggle.json ~/.kaggle/\n",
        "\n",
        "!chmod 600 ~/.kaggle/kaggle.json"
      ],
      "execution_count": 0,
      "outputs": []
    },
    {
      "metadata": {
        "id": "HGdYfhl75FTk",
        "colab_type": "code",
        "outputId": "1d3488ff-0935-4110-fad4-275dff2d2269",
        "colab": {
          "base_uri": "https://localhost:8080/",
          "height": 175
        }
      },
      "cell_type": "code",
      "source": [
        "!kaggle competitions download -c digit-recognizer"
      ],
      "execution_count": 0,
      "outputs": [
        {
          "output_type": "stream",
          "text": [
            "Downloading train.csv to /content\n",
            " 93% 68.0M/73.2M [00:01<00:00, 34.0MB/s]\n",
            "100% 73.2M/73.2M [00:01<00:00, 55.2MB/s]\n",
            "Downloading test.csv to /content\n",
            " 86% 42.0M/48.8M [00:01<00:00, 23.6MB/s]\n",
            "100% 48.8M/48.8M [00:01<00:00, 45.1MB/s]\n",
            "Downloading sample_submission.csv to /content\n",
            "  0% 0.00/235k [00:00<?, ?B/s]\n",
            "100% 235k/235k [00:00<00:00, 53.6MB/s]\n"
          ],
          "name": "stdout"
        }
      ]
    },
    {
      "metadata": {
        "id": "K28BWJzfBdHs",
        "colab_type": "text"
      },
      "cell_type": "markdown",
      "source": [
        "### Loading and setting up data"
      ]
    },
    {
      "metadata": {
        "colab_type": "code",
        "id": "xf-8W2Th7sUD",
        "colab": {}
      },
      "cell_type": "code",
      "source": [
        "def load_dataset():\n",
        "    training_data = pd.read_csv(\"train.csv\", sep=',')\n",
        "\n",
        "    train_x_orig = training_data.head(30000).iloc[:, 1:785]\n",
        "    train_y = training_data.head(30000).iloc[:, 0]\n",
        "\n",
        "    test_x_orig = training_data.tail(12000).iloc[:, 1:785]\n",
        "    test_y = training_data.tail(12000).iloc[:, 0]\n",
        "\n",
        "    train_x_orig = train_x_orig.as_matrix().reshape(30000, 784)\n",
        "    test_x_orig = test_x_orig.as_matrix().reshape(12000, 784)\n",
        "    \n",
        "    return train_x_orig, train_y, test_x_orig, test_y"
      ],
      "execution_count": 0,
      "outputs": []
    },
    {
      "metadata": {
        "colab_type": "code",
        "id": "0WGc7tYO8AnE",
        "outputId": "c5aca012-5ca5-4e41-9c7b-7c462085c350",
        "colab": {
          "base_uri": "https://localhost:8080/",
          "height": 158
        }
      },
      "cell_type": "code",
      "source": [
        "train_x_orig, train_y, test_x_orig, test_y = load_dataset()\n",
        "\n",
        "train_x = train_x_orig.astype('float32')\n",
        "test_x = test_x_orig.astype('float32')\n",
        "\n",
        "m_train = train_x_orig.shape[0]\n",
        "m_test = test_x_orig.shape[0]\n",
        "num_px = int(np.sqrt(train_x_orig.shape[1]))\n",
        "\n",
        "print(\"Number of training examples: m_train = \" + str(m_train))\n",
        "print(\"Number of testing examples: m_test = \" + str(m_test))\n",
        "print(\"Height/Width of each image: num_px = \" + str(num_px))\n",
        "print(\"Image size: (\" + str(num_px) + \", \" + str(num_px) + \")\")\n",
        "print(\"train_x shape: \" + str(train_x_orig.shape))\n",
        "print(\"train_y shape: \" + str(train_y.shape))\n",
        "print(\"test_x shape: \" + str(test_x_orig.shape))\n",
        "print(\"test_y shape: \" + str(test_y.shape))"
      ],
      "execution_count": 0,
      "outputs": [
        {
          "output_type": "stream",
          "text": [
            "Number of training examples: m_train = 30000\n",
            "Number of testing examples: m_test = 12000\n",
            "Height/Width of each image: num_px = 28\n",
            "Image size: (28, 28)\n",
            "train_x shape: (30000, 784)\n",
            "train_y shape: (30000,)\n",
            "test_x shape: (12000, 784)\n",
            "test_y shape: (12000,)\n"
          ],
          "name": "stdout"
        }
      ]
    },
    {
      "metadata": {
        "id": "ZwaRc5VfBlMc",
        "colab_type": "text"
      },
      "cell_type": "markdown",
      "source": [
        "### Visualizing data"
      ]
    },
    {
      "metadata": {
        "colab_type": "code",
        "id": "_umQwupy8GdD",
        "outputId": "8e5d845e-63f9-4af3-80d4-a68c28c68a20",
        "colab": {
          "base_uri": "https://localhost:8080/",
          "height": 187
        }
      },
      "cell_type": "code",
      "source": [
        "plt.figure(figsize = (22,2))\n",
        "\n",
        "for index, (image, label) in enumerate(zip(train_x[0:10], train_y[0:10])):\n",
        "    plt.subplot(1, 10, index+1)\n",
        "    plt.imshow(np.reshape(image, (28,28)), cmap = plt.cm.gray)\n",
        "    plt.axis('off')\n",
        "    plt.title(\"Train : \" + str(label), fontsize = 12)"
      ],
      "execution_count": 0,
      "outputs": [
        {
          "output_type": "display_data",
          "data": {
            "image/png": "[encoded data removed]",
            "text/plain": [
              "<matplotlib.figure.Figure at 0x7fb97d13e278>"
            ]
          },
          "metadata": {
            "tags": []
          }
        }
      ]
    },
    {
      "metadata": {
        "id": "L6ZMAO9fBtNx",
        "colab_type": "text"
      },
      "cell_type": "markdown",
      "source": [
        "### Reshaping and Normalization"
      ]
    },
    {
      "metadata": {
        "colab_type": "code",
        "id": "CmQQuOa_8eu4",
        "outputId": "62a33e7c-8a1f-4398-a882-042c3eb0fc81",
        "colab": {
          "base_uri": "https://localhost:8080/",
          "height": 87
        }
      },
      "cell_type": "code",
      "source": [
        "train_x = train_x_orig.T\n",
        "test_x = test_x_orig.T\n",
        "train_y = train_y.as_matrix().reshape(1, 30000)\n",
        "test_y = test_y.as_matrix().reshape(1, 12000)    \n",
        "\n",
        "print(\"train_x shape: \" + str(train_x.shape))\n",
        "print(\"test_x shape: \" + str(test_x.shape))\n",
        "print(\"train_y shape: \" + str(train_y.shape))\n",
        "print(\"test_y shape: \" + str(test_y.shape))"
      ],
      "execution_count": 0,
      "outputs": [
        {
          "output_type": "stream",
          "text": [
            "train_x shape: (784, 30000)\n",
            "test_x shape: (784, 12000)\n",
            "train_y shape: (1, 30000)\n",
            "test_y shape: (1, 12000)\n"
          ],
          "name": "stdout"
        }
      ]
    },
    {
      "metadata": {
        "colab_type": "code",
        "id": "AL3Jlk3E8g5M",
        "colab": {}
      },
      "cell_type": "code",
      "source": [
        "train_x = train_x / 255\n",
        "test_x = test_x / 255"
      ],
      "execution_count": 0,
      "outputs": []
    },
    {
      "metadata": {
        "id": "3qK2cTXWB5uU",
        "colab_type": "text"
      },
      "cell_type": "markdown",
      "source": [
        "### Changing Y in a 10D vector"
      ]
    },
    {
      "metadata": {
        "id": "oL8qfLRFACox",
        "colab_type": "code",
        "colab": {}
      },
      "cell_type": "code",
      "source": [
        "y_vector = np.array([0,1,2,3,4,5,6,7,8,9]).reshape(10,1)\n",
        "    \n",
        "train_y_orig = np.array(train_y)   \n",
        "train_y = (y_vector == train_y)"
      ],
      "execution_count": 0,
      "outputs": []
    },
    {
      "metadata": {
        "id": "WnZVGqSTCK4m",
        "colab_type": "text"
      },
      "cell_type": "markdown",
      "source": [
        "## Deep Neural Network Model for Digit Recognition"
      ]
    },
    {
      "metadata": {
        "colab_type": "text",
        "id": "8LjRJnxSuOdX"
      },
      "cell_type": "markdown",
      "source": [
        "### Initializing Parameters"
      ]
    },
    {
      "metadata": {
        "colab_type": "code",
        "id": "VaYeykMqwExY",
        "colab": {}
      },
      "cell_type": "code",
      "source": [
        "def init_params(dims):\n",
        "    params = {}\n",
        "    \n",
        "    for i in range (1, len(dims)):\n",
        "        if(len(dims) <= 3):\n",
        "            params[\"W\" + str(i)] = np.random.randn(dims[i], dims[i-1]) * 0.01 \n",
        "        else:\n",
        "            params[\"W\" + str(i)] = np.random.randn(dims[i], dims[i-1]) / np.sqrt(dims[i-1])\n",
        "        \n",
        "        params[\"b\" + str(i)] = np.zeros((dims[i], 1))\n",
        "    \n",
        "    return params"
      ],
      "execution_count": 0,
      "outputs": []
    },
    {
      "metadata": {
        "id": "cgGqeliOCds5",
        "colab_type": "text"
      },
      "cell_type": "markdown",
      "source": [
        "### Activation functions (For forward propagation)"
      ]
    },
    {
      "metadata": {
        "colab_type": "code",
        "id": "5B7MVZ5cdcRm",
        "colab": {}
      },
      "cell_type": "code",
      "source": [
        "def sigmoid(z):\n",
        "    return 1 / (1 + np.exp(-z))"
      ],
      "execution_count": 0,
      "outputs": []
    },
    {
      "metadata": {
        "colab_type": "code",
        "id": "QovVM7CK2hJx",
        "colab": {}
      },
      "cell_type": "code",
      "source": [
        "def relu(z):\n",
        "    return np.maximum(0, z)"
      ],
      "execution_count": 0,
      "outputs": []
    },
    {
      "metadata": {
        "id": "Rq39WY6ECoIU",
        "colab_type": "text"
      },
      "cell_type": "markdown",
      "source": [
        "### Forward Propagation"
      ]
    },
    {
      "metadata": {
        "colab_type": "code",
        "id": "phRKuba0dhdP",
        "colab": {}
      },
      "cell_type": "code",
      "source": [
        "def forward_prop(X, params):\n",
        "    L = len(params) // 2\n",
        "    A = X\n",
        "    caches = []\n",
        "    \n",
        "    for i in range(1, L+1):\n",
        "        A_prev = A\n",
        "        \n",
        "        W = params[\"W\" + str(i)]\n",
        "        b = params[\"b\" + str(i)]\n",
        "                   \n",
        "        Z = np.dot(W, A_prev) + b\n",
        "        linear_cache = (A_prev, W, b)\n",
        "        \n",
        "        if(i == L):\n",
        "            A = sigmoid(Z)\n",
        "        else:\n",
        "            A = relu(Z)\n",
        "        \n",
        "        activation_cache = Z\n",
        "        \n",
        "        caches.append((linear_cache, activation_cache))\n",
        "        \n",
        "    return A, caches"
      ],
      "execution_count": 0,
      "outputs": []
    },
    {
      "metadata": {
        "id": "WdCiG4xNCwe7",
        "colab_type": "text"
      },
      "cell_type": "markdown",
      "source": [
        "### Compute Cost"
      ]
    },
    {
      "metadata": {
        "colab_type": "code",
        "id": "0bqORINRfX4g",
        "colab": {}
      },
      "cell_type": "code",
      "source": [
        "def compute_cost(Y, AL):\n",
        "    m = Y.shape[1]\n",
        "    \n",
        "    J = (-1/m) * np.sum(Y * np.log(AL) + (1 - Y) * np.log(1 - AL))\n",
        "    \n",
        "    return np.squeeze(J)"
      ],
      "execution_count": 0,
      "outputs": []
    },
    {
      "metadata": {
        "id": "wZxa_SpFCzlT",
        "colab_type": "text"
      },
      "cell_type": "markdown",
      "source": [
        "### Derivatives of activation function (For backward propagation)\n"
      ]
    },
    {
      "metadata": {
        "colab_type": "code",
        "id": "DpjbjfmnHZIw",
        "colab": {}
      },
      "cell_type": "code",
      "source": [
        "def sigmoid_backward(dA, Z):\n",
        "    s = 1 / (1 + np.exp(-Z))\n",
        "    dZ = dA * s * (1-s)\n",
        "    return dZ"
      ],
      "execution_count": 0,
      "outputs": []
    },
    {
      "metadata": {
        "colab_type": "code",
        "id": "_mdvuUkKH2V1",
        "colab": {}
      },
      "cell_type": "code",
      "source": [
        "def relu_backward(dA, Z):\n",
        "    dZ = np.array(dA, copy=True)\n",
        "    dZ[Z<=0] = 0\n",
        "    return dZ"
      ],
      "execution_count": 0,
      "outputs": []
    },
    {
      "metadata": {
        "id": "YhbomczVCsMH",
        "colab_type": "text"
      },
      "cell_type": "markdown",
      "source": [
        "### Backward Propagation"
      ]
    },
    {
      "metadata": {
        "colab_type": "code",
        "id": "6a1muL-vgXsn",
        "colab": {}
      },
      "cell_type": "code",
      "source": [
        "def backward_prop(AL, Y, caches):\n",
        "    L = len(caches)\n",
        "    m = AL.shape[1]\n",
        "    \n",
        "    grads = {}\n",
        "    \n",
        "    dAL = - (np.divide(Y, AL) - np.divide(1 - Y, 1 - AL))\n",
        "    \n",
        "    for i in range(L, 0, -1):\n",
        "        current_cache = caches[i-1]\n",
        "        \n",
        "        linear_cache, activation_cache = current_cache\n",
        "        \n",
        "        if(i == L):\n",
        "            dZ = sigmoid_backward(dAL, activation_cache)\n",
        "        else:\n",
        "            dZ = relu_backward(grads[\"dA\" + str(i+1)], activation_cache)\n",
        "        \n",
        "        A_prev, W, b = linear_cache\n",
        "        \n",
        "        grads[\"dW\" + str(i)] = (1/m) * np.dot(dZ, A_prev.T)\n",
        "        grads[\"db\" + str(i)] = (1/m) * np.sum(dZ, axis=1, keepdims=True)        \n",
        "        grads[\"dA\" + str(i)] = np.dot(W.T, dZ)\n",
        "        \n",
        "    return grads"
      ],
      "execution_count": 0,
      "outputs": []
    },
    {
      "metadata": {
        "id": "UvqpXik3DIhd",
        "colab_type": "text"
      },
      "cell_type": "markdown",
      "source": [
        "### Update Parameters"
      ]
    },
    {
      "metadata": {
        "colab_type": "code",
        "id": "ay5n6a5LS_0c",
        "colab": {}
      },
      "cell_type": "code",
      "source": [
        "def update_params(params, grads, learning_rate):\n",
        "    L = len(params) // 2\n",
        "    \n",
        "    for l in range(1, L+1):\n",
        "        params[\"W\" + str(l)] -= learning_rate * grads[\"dW\" + str(l)]\n",
        "        params[\"b\" + str(l)] -= learning_rate * grads[\"db\" + str(l)]\n",
        "        \n",
        "    return params"
      ],
      "execution_count": 0,
      "outputs": []
    },
    {
      "metadata": {
        "id": "8UM2vDmmDMXK",
        "colab_type": "text"
      },
      "cell_type": "markdown",
      "source": [
        "### Combining everthing into Multi-layer Neural Network Model"
      ]
    },
    {
      "metadata": {
        "colab_type": "code",
        "id": "EO-d9NVk-n4j",
        "colab": {}
      },
      "cell_type": "code",
      "source": [
        "def NN_model(X, Y, dims, learning_rate = 0.3, num_itrs = 3000, print_cost = False):\n",
        "    params = init_params(dims)\n",
        "    costs = []\n",
        "    \n",
        "    for i in range(num_itrs):   \n",
        "        AL, caches = forward_prop(X, params)\n",
        "        #print(AL.shape)\n",
        "        cost = compute_cost(Y, AL)\n",
        "        \n",
        "        grads = backward_prop(AL, Y, caches)\n",
        "        \n",
        "        params = update_params(params, grads, learning_rate)\n",
        "        \n",
        "        if(i % 50 == 0):\n",
        "            costs.append(cost)\n",
        "            \n",
        "            if(print_cost):\n",
        "                print(\"Iteration #%i : %f\" % (i, cost))\n",
        "     \n",
        "    plt.plot(np.squeeze(costs))\n",
        "    plt.ylabel('cost')\n",
        "    plt.xlabel('iterations')\n",
        "    plt.title(\"Learning rate = \" + str(learning_rate))\n",
        "    plt.show()\n",
        "    \n",
        "    return params"
      ],
      "execution_count": 0,
      "outputs": []
    },
    {
      "metadata": {
        "colab_type": "code",
        "id": "ndlmX4BIBeQ7",
        "outputId": "106af5a7-422f-4e3f-d7fe-c1ffd38f33d2",
        "colab": {
          "base_uri": "https://localhost:8080/",
          "height": 579
        }
      },
      "cell_type": "code",
      "source": [
        "dims = [784, 50, 10]\n",
        "params1 = NN_model(train_x, train_y, dims, learning_rate = 0.9\n",
        "                   , num_itrs = 500, print_cost=True)"
      ],
      "execution_count": 0,
      "outputs": [
        {
          "output_type": "stream",
          "text": [
            "Iteration #0 : 6.928294\n",
            "Iteration #50 : 1.365624\n",
            "Iteration #100 : 0.829118\n",
            "Iteration #150 : 0.661902\n",
            "Iteration #200 : 0.566558\n",
            "Iteration #250 : 0.537654\n",
            "Iteration #300 : 0.529705\n",
            "Iteration #350 : 0.529134\n",
            "Iteration #400 : 0.483088\n",
            "Iteration #450 : 0.472570\n"
          ],
          "name": "stdout"
        },
        {
          "output_type": "display_data",
          "data": {
            "image/png": "[encoded data removed]",
            "text/plain": [
              "<matplotlib.figure.Figure at 0x7fb979e70518>"
            ]
          },
          "metadata": {
            "tags": []
          }
        }
      ]
    },
    {
      "metadata": {
        "colab_type": "code",
        "id": "I3V4Hb6hwn6V",
        "colab": {}
      },
      "cell_type": "code",
      "source": [
        "def predict(X, Y, params):\n",
        "    y, caches = forward_prop(X, params)\n",
        "    \n",
        "    predictions = np.argmax(y, axis=0).reshape(1,X.shape[1])\n",
        "    \n",
        "    print(\"Accuracy : \" + str(np.sum((predictions == Y) / X.shape[1])))\n",
        "    \n",
        "    return predictions"
      ],
      "execution_count": 0,
      "outputs": []
    },
    {
      "metadata": {
        "colab_type": "code",
        "id": "rMKmj2_EyWkr",
        "outputId": "affcae08-8934-4a69-9dd4-66dcf891672f",
        "colab": {
          "base_uri": "https://localhost:8080/",
          "height": 52
        }
      },
      "cell_type": "code",
      "source": [
        "predictions_train = predict(train_x, train_y_orig, params1)\n",
        "predictions_test = predict(test_x, test_y, params1)"
      ],
      "execution_count": 0,
      "outputs": [
        {
          "output_type": "stream",
          "text": [
            "Accuracy : 0.9350666666666669\n",
            "Accuracy : 0.9279166666666667\n"
          ],
          "name": "stdout"
        }
      ]
    },
    {
      "metadata": {
        "colab_type": "code",
        "id": "C99uYZbGy4qq",
        "outputId": "3cff2b70-fea4-4708-a53e-2685a30e79f3",
        "colab": {
          "base_uri": "https://localhost:8080/",
          "height": 579
        }
      },
      "cell_type": "code",
      "source": [
        "layers_dims = [784, 300, 100, 10]\n",
        "params = NN_model(train_x, train_y, layers_dims, learning_rate = 0.9, num_itrs = 500, print_cost=True)"
      ],
      "execution_count": 0,
      "outputs": [
        {
          "output_type": "stream",
          "text": [
            "Iteration #0 : 7.145173\n",
            "Iteration #50 : 1.772275\n",
            "Iteration #100 : 1.613322\n",
            "Iteration #150 : 0.435181\n",
            "Iteration #200 : 0.346957\n",
            "Iteration #250 : 0.652333\n",
            "Iteration #300 : 0.520091\n",
            "Iteration #350 : 0.251605\n",
            "Iteration #400 : 0.211480\n",
            "Iteration #450 : 0.610381\n"
          ],
          "name": "stdout"
        },
        {
          "output_type": "display_data",
          "data": {
            "image/png": "[encoded data removed]",
            "text/plain": [
              "<matplotlib.figure.Figure at 0x7fb979e2beb8>"
            ]
          },
          "metadata": {
            "tags": []
          }
        }
      ]
    },
    {
      "metadata": {
        "colab_type": "code",
        "id": "kzSE4uY-zvq8",
        "outputId": "ed10aee5-f40f-4ba5-a72a-a961d8c6dcf4",
        "colab": {
          "base_uri": "https://localhost:8080/",
          "height": 52
        }
      },
      "cell_type": "code",
      "source": [
        "pred_train = predict(train_x, train_y_orig, params)\n",
        "pred_test = predict(test_x, test_y, params)"
      ],
      "execution_count": 0,
      "outputs": [
        {
          "output_type": "stream",
          "text": [
            "Accuracy : 0.9600666666666668\n",
            "Accuracy : 0.9491666666666667\n"
          ],
          "name": "stdout"
        }
      ]
    },
    {
      "metadata": {
        "id": "KnDZP99SHnSS",
        "colab_type": "text"
      },
      "cell_type": "markdown",
      "source": [
        "### Misclassified Images"
      ]
    },
    {
      "metadata": {
        "id": "E19p7QMyHmPP",
        "colab_type": "code",
        "outputId": "000f42eb-0535-437e-a4fa-ded3e407f9b8",
        "colab": {
          "base_uri": "https://localhost:8080/",
          "height": 218
        }
      },
      "cell_type": "code",
      "source": [
        "index = 0\n",
        "misclassified_indexs = []\n",
        "\n",
        "for actual, predict in zip(test_y[0], pred_test[0]):\n",
        "    if(actual != predict):\n",
        "        misclassified_indexs.append(index)\n",
        "    index += 1\n",
        "\n",
        "\n",
        "plt.figure(figsize=(22,4))\n",
        "\n",
        "for i, j in enumerate(misclassified_indexs[0:10]):\n",
        "    plt.subplot(1, 10, i + 1)\n",
        "    plt.imshow(np.reshape(test_x[:,j], (28,28)), cmap=plt.cm.gray)\n",
        "    plt.axis('off')\n",
        "    plt.title('Predicted: {}\\nActual: {}'.format(pred_test[:,j], test_y[:,j]), fontsize = 12)\n",
        " \n",
        "print(\"Total number of misclassified examples\", len(misclassified_indexs))"
      ],
      "execution_count": 0,
      "outputs": [
        {
          "output_type": "stream",
          "text": [
            "Total number of misclassified examples 610\n"
          ],
          "name": "stdout"
        },
        {
          "output_type": "display_data",
          "data": {
            "image/png": "[encoded data removed]",
            "text/plain": [
              "<matplotlib.figure.Figure at 0x7fb979ed0dd8>"
            ]
          },
          "metadata": {
            "tags": []
          }
        }
      ]
    },
    {
      "metadata": {
        "id": "ncMVfqjvMuP4",
        "colab_type": "code",
        "colab": {}
      },
      "cell_type": "code",
      "source": [
        ""
      ],
      "execution_count": 0,
      "outputs": []
    }
  ]
}