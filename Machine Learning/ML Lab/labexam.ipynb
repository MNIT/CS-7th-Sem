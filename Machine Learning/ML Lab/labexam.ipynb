{
  "nbformat": 4,
  "nbformat_minor": 0,
  "metadata": {
    "colab": {
      "name": "labexam.ipynb",
      "version": "0.3.2",
      "provenance": [],
      "collapsed_sections": []
    },
    "kernelspec": {
      "name": "python3",
      "display_name": "Python 3"
    }
  },
  "cells": [
    {
      "metadata": {
        "id": "TJlv3YK9fM6L",
        "colab_type": "code",
        "colab": {}
      },
      "cell_type": "code",
      "source": [
        "import numpy as np\n",
        "import matplotlib.pyplot as plt\n",
        "import pandas as pd\n",
        "\n",
        "# %matplotlib inline\n",
        "plt.rcParams['figure.figsize'] = (8.0, 6.0)\n",
        "plt.rcParams['image.interpolation'] = 'nearest'\n",
        "plt.rcParams['image.cmap'] = 'gray'\n",
        "\n",
        "# %load_ext autoreload\n",
        "# %autoreload 2"
      ],
      "execution_count": 0,
      "outputs": []
    },
    {
      "metadata": {
        "id": "Axj-GZ4xfU0i",
        "colab_type": "code",
        "outputId": "2d7cbfa7-6fac-4360-b66f-777dcdce58bc",
        "colab": {
          "base_uri": "https://localhost:8080/",
          "height": 51
        }
      },
      "cell_type": "code",
      "source": [
        "np.random.seed(1)\n",
        "train_x = np.array([0, 0, 0, 0, 0, 0, 0, 0, 0, 1, 0, 0, 0, 1, 0, 0, 0, 0, 1, 1, 0, 0, 1, 0, 0, 0, 0, 1, 0, 1,0, 0, 1, 1, 0,0, 0, 1, 1, 1,0, 1, 0, 0, 0,0, 1, 0, 0, 1,0, 1, 0, 1, 0,0, 1, 0, 1, 1,0, 1, 1, 0, 0,0, 1, 1, 0, 1,0, 1, 1, 1, 0,0, 1, 1, 1, 1,1, 0, 0, 0, 0,1, 0, 0, 0, 1,1, 0, 0, 1, 0,1, 0, 0, 1, 1,1, 0, 1, 0, 0,1, 0, 1, 0, 1,1, 0, 1, 1, 0,1, 0, 1, 1, 1,1, 1, 0, 0, 0,1, 1, 0, 0, 1,1, 1, 0, 1, 0,1, 1, 0, 1, 1,1, 1, 1, 0, 0,1, 1, 1, 0, 1,1, 1, 1, 1, 0,1, 1, 1, 1, 1,]).reshape(32, 5)\n",
        "#train_x = np.array([0, 0, 0, 0, 0, 0, 0, 0, 0, 1, 0, 0, 0, 1, 0, 0, 0, 0, 1, 1, 0, 0, 1, 0, 0, 0, 0, 1, 0, 1,0, 0, 1, 1, 0,0, 1, 0, 0, 1,0, 1, 0, 1, 0,0, 1, 0, 1, 1,0, 1, 1, 0, 0,0, 1, 1, 0, 1,0, 1, 1, 1, 0,0, 1, 1, 1, 1,1, 0, 0, 0, 0,1, 0, 0, 0, 1,1, 0, 1, 0, 0,1, 0, 1, 0, 1,1, 0, 1, 1, 0,1, 0, 1, 1, 1,1, 1, 0, 0, 0,1, 1, 0, 0, 1,1, 1, 0, 1, 0,1, 1, 0, 1, 1,1, 1, 1, 0, 0,1, 1, 1, 0, 1,1, 1, 1, 1, 0,1, 1, 1, 1, 1,]).reshape(28, 5)\n",
        "train_x = train_x.T\n",
        "#test_x = np.array([0, 0, 1, 1, 1,0, 1, 0, 0, 0,1, 0, 0, 1, 0,1, 0, 0, 1, 1]).reshape(5, 4)\n",
        "train_y = np.array([1, 1, 1, 1, 1, 1, 1, 1,1, 1, 1, 1,1, 1, 1, 1,1, 1, 1, 1,1, 1, 1, 1,1, 1, 1, 1,1, 1, 1, 0]).reshape(1, 32)\n",
        "#train_y = np.array([1, 1, 1, 1,1, 1, 1, 1,1, 1, 1, 1,1, 1, 1, 1,1, 1, 1, 1,1, 1, 1, 1,1, 1, 1, 0]).reshape(1, 28)\n",
        "#test_y = np.array([1, 1, 1, 1]).reshape(1, 4)\n",
        "print(np.shape(train_x))\n",
        "print(np.shape(train_y))\n",
        "threshold = 0.6"
      ],
      "execution_count": 2,
      "outputs": [
        {
          "output_type": "stream",
          "text": [
            "(5, 32)\n",
            "(1, 32)\n"
          ],
          "name": "stdout"
        }
      ]
    },
    {
      "metadata": {
        "id": "S9kHiUn8f5FA",
        "colab_type": "code",
        "colab": {}
      },
      "cell_type": "code",
      "source": [
        "def init_params(dims):\n",
        "    params = {}\n",
        "    np.random.seed(3)\n",
        "    for i in range (1, len(dims)):\n",
        "        params[\"W\" + str(i)] = (np.random.randn(dims[i], dims[i-1]) * 0.01).astype('float32')\n",
        "        params[\"b\" + str(i)] = np.zeros((dims[i], 1)).astype('float32')\n",
        "    return params"
      ],
      "execution_count": 0,
      "outputs": []
    },
    {
      "metadata": {
        "id": "mD6OK56zgA3_",
        "colab_type": "code",
        "colab": {}
      },
      "cell_type": "code",
      "source": [
        "def sigmoid(z):\n",
        "    return 1 / (1 + np.exp(-z))"
      ],
      "execution_count": 0,
      "outputs": []
    },
    {
      "metadata": {
        "id": "Q1lxAdDrgVWd",
        "colab_type": "code",
        "colab": {}
      },
      "cell_type": "code",
      "source": [
        "def forward_prop(X, Y, params):\n",
        "    L = len(params) // 2\n",
        "    A = X\n",
        "    caches = []\n",
        "    for i in range(1, L+1):\n",
        "        A_prev = A\n",
        "        W = params[\"W\" + str(i)]\n",
        "        b = params[\"b\" + str(i)]\n",
        "        Z = np.dot(W, A_prev) + b\n",
        "        linear_cache = (A_prev, W, b)\n",
        "        A = sigmoid(Z)\n",
        "        activation_cache = Z\n",
        "        caches.append((linear_cache, activation_cache))  \n",
        "    #Amat = (A > threshold).astype(int)\n",
        "    #A = Amat\n",
        "    return A, caches"
      ],
      "execution_count": 0,
      "outputs": []
    },
    {
      "metadata": {
        "id": "L6DfUjPvjJaN",
        "colab_type": "code",
        "colab": {}
      },
      "cell_type": "code",
      "source": [
        "def compute_cost(Y, AL):\n",
        "    m = Y.shape[1]\n",
        "    J = (-1/m) * np.sum(Y * np.log(AL) + (1 - Y) * np.log(1 - AL))\n",
        "    #J = (1/m) * np.sum((Y - AL) * (Y - AL))\n",
        "    return np.squeeze(J)"
      ],
      "execution_count": 0,
      "outputs": []
    },
    {
      "metadata": {
        "id": "OnKOFJhWjk4T",
        "colab_type": "code",
        "colab": {}
      },
      "cell_type": "code",
      "source": [
        "def sigmoid_backward(dA, Z):\n",
        "    s = 1 / (1 + np.exp(-Z))\n",
        "    dZ = dA * s * (1-s)\n",
        "    return dZ"
      ],
      "execution_count": 0,
      "outputs": []
    },
    {
      "metadata": {
        "id": "GasOjHXUjbwv",
        "colab_type": "code",
        "colab": {}
      },
      "cell_type": "code",
      "source": [
        "def backward_prop(AL, Y, caches):\n",
        "    L = len(caches)\n",
        "    m = AL.shape[1]\n",
        "    Y = Y.reshape(AL.shape)\n",
        "    grads = {}\n",
        "    dAL = (AL - Y)\n",
        "    #dAL = - (np.divide(Y, AL) - np.divide(1 - Y, 1 - AL))\n",
        "    for i in range(L, 0, -1):\n",
        "        current_cache = caches[i-1]\n",
        "        linear_cache, activation_cache = current_cache\n",
        "        if(i == L):\n",
        "            dZ = sigmoid_backward(dAL, activation_cache)\n",
        "        else:\n",
        "            dZ = sigmoid_backward(grads[\"dA\" + str(i+1)], activation_cache)\n",
        "        A_prev, W, b = linear_cache\n",
        "        grads[\"dW\" + str(i)] = (1/m) * np.dot(dZ, A_prev.T)\n",
        "        grads[\"db\" + str(i)] = (1/m) * np.sum(dZ, axis=1, keepdims=True)        \n",
        "        grads[\"dA\" + str(i)] = np.dot(W.T, dZ)\n",
        "    return grads"
      ],
      "execution_count": 0,
      "outputs": []
    },
    {
      "metadata": {
        "id": "Qx2_eRXBkvDO",
        "colab_type": "code",
        "colab": {}
      },
      "cell_type": "code",
      "source": [
        "def update_params(params, grads, learning_rate):\n",
        "    L = len(params) // 2\n",
        "    for l in range(1, L+1):\n",
        "        params[\"W\" + str(l)] -= learning_rate * grads[\"dW\" + str(l)]\n",
        "        params[\"b\" + str(l)] -= learning_rate * grads[\"db\" + str(l)]   \n",
        "    return params"
      ],
      "execution_count": 0,
      "outputs": []
    },
    {
      "metadata": {
        "id": "Qe5cYUromOOF",
        "colab_type": "code",
        "colab": {}
      },
      "cell_type": "code",
      "source": [
        "def NN_model(X, Y, dims, learning_rate = 0.3, num_itrs = 3000, print_cost = False):\n",
        "    np.random.seed(1)\n",
        "    params = init_params(dims)\n",
        "    costs = []\n",
        "    for i in range(num_itrs):   \n",
        "        AL, caches = forward_prop(X, Y, params)\n",
        "        cost = compute_cost(Y, AL)\n",
        "        grads = backward_prop(AL, Y, caches)\n",
        "        params = update_params(params, grads, learning_rate)\n",
        "        if(i % 100 == 0):\n",
        "            #if (i != 0):\n",
        "            #  costs.append(cost)\n",
        "            costs.append(cost)\n",
        "            if(print_cost):\n",
        "                print(\"Iteration #%i : %f\" % (i, cost))\n",
        "    plt.plot(np.squeeze(costs))\n",
        "    plt.ylabel('cost')\n",
        "    plt.xlabel('iterations')\n",
        "    plt.title(\"Learning rate =\" + str(learning_rate))\n",
        "    plt.show()\n",
        "    return params"
      ],
      "execution_count": 0,
      "outputs": []
    },
    {
      "metadata": {
        "id": "mdLLvuDooPUf",
        "colab_type": "code",
        "colab": {}
      },
      "cell_type": "code",
      "source": [
        "def predict(X, Y, params):\n",
        "    predictions = np.zeros((1, Y.shape[1]))\n",
        "    actual = np.zeros((1, Y.shape[1]))\n",
        "    y, caches = forward_prop(X, Y, params)\n",
        "    correct = 0\n",
        "    for i in range(y.shape[1]):\n",
        "        if(y[0, i] >= threshold):\n",
        "            predictions[0, i] = 1\n",
        "        else:\n",
        "            predictions[0, i] = 0\n",
        "        if (predictions[0, i] == Y[0, i]):\n",
        "          correct = correct + 1\n",
        "    print(\"Accuracy : \" + str(correct / X.shape[1]))\n",
        "    return predictions"
      ],
      "execution_count": 0,
      "outputs": []
    },
    {
      "metadata": {
        "id": "7Bi3gmUAgDvf",
        "colab_type": "code",
        "outputId": "fa0abd61-541f-45cc-b989-60d86e468e17",
        "colab": {
          "base_uri": "https://localhost:8080/",
          "height": 488
        }
      },
      "cell_type": "code",
      "source": [
        "dims = [5, 5, 5, 1]\n",
        "params = NN_model(train_x, train_y, dims, learning_rate = 0.01, num_itrs = 500, print_cost=True)"
      ],
      "execution_count": 12,
      "outputs": [
        {
          "output_type": "stream",
          "text": [
            "Iteration #0 : 0.680250\n",
            "Iteration #100 : 0.576689\n",
            "Iteration #200 : 0.499523\n",
            "Iteration #300 : 0.441760\n",
            "Iteration #400 : 0.397864\n"
          ],
          "name": "stdout"
        },
        {
          "output_type": "display_data",
          "data": {
            "image/png": "[encoded data removed]",
            "text/plain": [
              "<matplotlib.figure.Figure at 0x7f27577cff60>"
            ]
          },
          "metadata": {
            "tags": []
          }
        }
      ]
    },
    {
      "metadata": {
        "id": "uG_Cluq0rLYG",
        "colab_type": "code",
        "outputId": "511b97a9-d62c-453f-eb18-6ef1a8c33bb7",
        "colab": {
          "base_uri": "https://localhost:8080/",
          "height": 34
        }
      },
      "cell_type": "code",
      "source": [
        "predictions_train = predict(train_x, train_y, params)\n",
        "#predictions_test = predict(test_x, test_y, params)"
      ],
      "execution_count": 13,
      "outputs": [
        {
          "output_type": "stream",
          "text": [
            "Accuracy : 0.96875\n"
          ],
          "name": "stdout"
        }
      ]
    },
    {
      "metadata": {
        "id": "j-9uratTtN8A",
        "colab_type": "code",
        "colab": {}
      },
      "cell_type": "code",
      "source": [
        ""
      ],
      "execution_count": 0,
      "outputs": []
    }
  ]
}